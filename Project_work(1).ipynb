{
 "cells": [
  {
   "cell_type": "code",
   "execution_count": null,
   "metadata": {
    "collapsed": true
   },
   "outputs": [],
   "source": [
    "import math as math\n",
    "import operator \n",
    "import pandas as pd\n",
    "import numpy as np"
   ]
  },
  {
   "cell_type": "markdown",
   "metadata": {},
   "source": [
    "## Jaccard similarity"
   ]
  },
  {
   "cell_type": "code",
   "execution_count": null,
   "metadata": {
    "collapsed": false
   },
   "outputs": [],
   "source": [
    "#%%timeit\n",
    "##########################################################################################################################\n",
    "##### Part of this code was implemented by Dr. Jason Browniee in Tutorial to implement kNN in Python from scratch ########\n",
    "##########################################################################################################################\n",
    "\n",
    "# formular for jaccard similarity\n",
    "def Jaccard_similarity(data1, data2):\n",
    "    distance = len(set(data1) & set(data2)) / len(set(data1) | set(data2))\n",
    "    return distance\n",
    "\n",
    "\n",
    "# to get neighbors of the test instance among the training set\n",
    "\n",
    "def getNeighbors(trainingSet, testInstance, k, measure):\n",
    "    distances = []\n",
    "    for x in trainingSet:\n",
    "        dist = measure(testInstance, x[:-1])\n",
    "        distances.append((x, dist))\n",
    "    distances.sort(key=operator.itemgetter(1), reverse=True)\n",
    "    #print(distances)\n",
    "    neighbors = []\n",
    "    for x in range(k):\n",
    "        neighbors.append(distances[x][0])\n",
    "    return neighbors\n",
    "\n",
    "\n",
    "# to get the class of the majority votes among the k neighbors\n",
    "def getResponse(neighbors):\n",
    "    classVotes = {}\n",
    "    for x in range(len(neighbors)):\n",
    "        response = neighbors[x][-1]\n",
    "        if response in classVotes:\n",
    "            classVotes[response] += 1\n",
    "        else:\n",
    "            classVotes[response] = 1\n",
    "    sortedVotes = sorted(classVotes.items(), key=operator.itemgetter(1), reverse=True)\n",
    "    if len(sortedVotes)>1:\n",
    "        if  sortedVotes[0][1] == sortedVotes[1][1]: \n",
    "            return \"High/Low\"\n",
    "        else:\n",
    "            return sortedVotes[0][0]\n",
    "    else:\n",
    "        return sortedVotes[0][0]"
   ]
  },
  {
   "cell_type": "code",
   "execution_count": null,
   "metadata": {
    "collapsed": false
   },
   "outputs": [],
   "source": [
    "# the dataframe showing the records of books purchased by each customers\n",
    "df = pd.read_csv('/home/bashirat/Documents/book_records.csv')\n",
    "df.head(10)"
   ]
  },
  {
   "cell_type": "code",
   "execution_count": null,
   "metadata": {
    "collapsed": false
   },
   "outputs": [],
   "source": [
    "# changing array into list of books purchased by each customers with their respective classes\n",
    "Dataset=[]\n",
    "currentheaders = list(df.columns.values)\n",
    "for i in range(len(df)):\n",
    "    d=[]\n",
    "    for j in range(len(df.loc[i])-1):\n",
    "        if df.loc[i][j]!=0:\n",
    "            d.append(currentheaders[j])\n",
    "    d.append(df['Class'][i])\n",
    "    Dataset.append(d)\n",
    "            \n",
    "Dataset    "
   ]
  },
  {
   "cell_type": "code",
   "execution_count": null,
   "metadata": {
    "collapsed": false,
    "scrolled": true
   },
   "outputs": [],
   "source": [
    "%timeit\n",
    "# print the neighbors of the test instance with respect to their classes\n",
    "trainSet = Dataset\n",
    "testInstance = ['A', 'C', 'F', 'I', 'J']\n",
    "Nb=getNeighbors(trainSet, testInstance,2,Jaccard_similarity)\n",
    "print (Nb)"
   ]
  },
  {
   "cell_type": "code",
   "execution_count": null,
   "metadata": {
    "collapsed": false
   },
   "outputs": [],
   "source": [
    "# print the class of the majority vote as the class of the test instance\n",
    "response = getResponse(Nb)\n",
    "print(response)"
   ]
  },
  {
   "cell_type": "code",
   "execution_count": null,
   "metadata": {
    "collapsed": true
   },
   "outputs": [],
   "source": []
  },
  {
   "cell_type": "markdown",
   "metadata": {},
   "source": [
    "### Cosine similarity"
   ]
  },
  {
   "cell_type": "code",
   "execution_count": null,
   "metadata": {
    "collapsed": false
   },
   "outputs": [],
   "source": [
    "#%timeit\n",
    "# formular to compute the dot product between two two vectors\n",
    "def dot_product(v1, v2):\n",
    "    return sum(map(lambda x: x[0] * x[1], zip(v1, v2)))\n",
    "\n",
    "# formular to compute cosine similarity\n",
    "def cosine_measure(v1, v2):\n",
    "    prod = dot_product(v1, v2)\n",
    "    len1 = math.sqrt(dot_product(v1, v1))\n",
    "    len2 = math.sqrt(dot_product(v2, v2))\n",
    "    return prod / (len1 * len2)"
   ]
  },
  {
   "cell_type": "code",
   "execution_count": null,
   "metadata": {
    "collapsed": false
   },
   "outputs": [],
   "source": [
    "# the dataframe of customer records of the books purchased by each customers with their respective classes\n",
    "df = pd.read_csv('/home/bashirat/Documents/book_records.csv')\n",
    "df.head(10)"
   ]
  },
  {
   "cell_type": "code",
   "execution_count": null,
   "metadata": {
    "collapsed": false
   },
   "outputs": [],
   "source": [
    "# the list of the data of each customers \n",
    "L = df.values               \n",
    "L = L[:, :]\n",
    "Data = [list(L[i]) for i in range(len(L))]\n",
    "Data"
   ]
  },
  {
   "cell_type": "code",
   "execution_count": null,
   "metadata": {
    "collapsed": false
   },
   "outputs": [],
   "source": [
    "#%timeit\n",
    "# neighbors of the test instance with their classes\n",
    "trainSet = Data[:]\n",
    "testInstance = [1, 0, 1, 0, 0, 1, 0, 0, 1, 1]\n",
    "Nb=getNeighbors(trainSet, testInstance, 2, cosine_measure)\n",
    "print(Nb)"
   ]
  },
  {
   "cell_type": "code",
   "execution_count": null,
   "metadata": {
    "collapsed": false
   },
   "outputs": [],
   "source": [
    "# the class of the test instance\n",
    "response = getResponse(Nb)\n",
    "print(response)"
   ]
  },
  {
   "cell_type": "code",
   "execution_count": null,
   "metadata": {
    "collapsed": true
   },
   "outputs": [],
   "source": []
  }
 ],
 "metadata": {
  "kernelspec": {
   "display_name": "Python 3",
   "language": "python",
   "name": "python3"
  },
  "language_info": {
   "codemirror_mode": {
    "name": "ipython",
    "version": 3
   },
   "file_extension": ".py",
   "mimetype": "text/x-python",
   "name": "python",
   "nbconvert_exporter": "python",
   "pygments_lexer": "ipython3",
   "version": "3.5.3"
  }
 },
 "nbformat": 4,
 "nbformat_minor": 2
}
